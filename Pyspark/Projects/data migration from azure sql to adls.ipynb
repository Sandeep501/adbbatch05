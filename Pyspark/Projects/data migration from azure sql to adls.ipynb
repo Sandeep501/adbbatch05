{
 "cells": [
  {
   "cell_type": "code",
   "execution_count": 0,
   "metadata": {
    "application/vnd.databricks.v1+cell": {
     "cellMetadata": {
      "byteLimit": 2048000,
      "rowLimit": 10000
     },
     "inputWidgets": {},
     "nuid": "3a8779e6-a0a6-464f-9792-63291dec84e4",
     "showTitle": false,
     "tableResultSettingsMap": {},
     "title": ""
    }
   },
   "outputs": [],
   "source": [
    "import datetime"
   ]
  },
  {
   "cell_type": "code",
   "execution_count": 0,
   "metadata": {
    "application/vnd.databricks.v1+cell": {
     "cellMetadata": {
      "byteLimit": 2048000,
      "rowLimit": 10000
     },
     "inputWidgets": {},
     "nuid": "87aacac8-014b-4979-9075-ced9d3109aa0",
     "showTitle": false,
     "tableResultSettingsMap": {},
     "title": ""
    }
   },
   "outputs": [],
   "source": [
    "current_date_str = datetime.datetime.now().strftime(\"%d%m%Y\")\n",
    "print(current_date_str)"
   ]
  },
  {
   "cell_type": "code",
   "execution_count": 0,
   "metadata": {
    "application/vnd.databricks.v1+cell": {
     "cellMetadata": {
      "byteLimit": 2048000,
      "rowLimit": 10000
     },
     "inputWidgets": {},
     "nuid": "91f3363d-0454-45df-9833-2faa14263da0",
     "showTitle": false,
     "tableResultSettingsMap": {},
     "title": ""
    }
   },
   "outputs": [],
   "source": [
    "jdbc_hostname = \"j2dtechnologies.database.windows.net\"\n",
    "jdbc_port = 1433\n",
    "jdbc_database = \"j2ddatabase\"\n",
    "base_path =  \"/mnt/my_adls_container/samples/sql_tables\""
   ]
  },
  {
   "cell_type": "code",
   "execution_count": 0,
   "metadata": {
    "application/vnd.databricks.v1+cell": {
     "cellMetadata": {
      "byteLimit": 2048000,
      "rowLimit": 10000
     },
     "inputWidgets": {},
     "nuid": "cfb886f3-84c1-497b-8593-9eb5a7d1c180",
     "showTitle": false,
     "tableResultSettingsMap": {},
     "title": ""
    }
   },
   "outputs": [],
   "source": [
    "# check the scret scopes\n",
    "\n",
    "dbutils.secrets.listScopes()"
   ]
  },
  {
   "cell_type": "code",
   "execution_count": 0,
   "metadata": {
    "application/vnd.databricks.v1+cell": {
     "cellMetadata": {
      "byteLimit": 2048000,
      "rowLimit": 10000
     },
     "inputWidgets": {},
     "nuid": "13d16f27-79d3-4cd1-9e38-38cce33af5ed",
     "showTitle": false,
     "tableResultSettingsMap": {},
     "title": ""
    }
   },
   "outputs": [],
   "source": [
    "try:  \n",
    "    user_name = dbutils.secrets.get(scope=\"sc-jd2tech-05\", key=\"azure-sql-user-name\")\n",
    "    password = dbutils.secrets.get(scope=\"sc-jd2tech-05\", key=\"azure-sql-password\")\n",
    "except Exception as e:\n",
    "    raise e"
   ]
  },
  {
   "cell_type": "code",
   "execution_count": 0,
   "metadata": {
    "application/vnd.databricks.v1+cell": {
     "cellMetadata": {
      "byteLimit": 2048000,
      "rowLimit": 10000
     },
     "inputWidgets": {},
     "nuid": "d052c8d9-897c-4797-8c5e-dcc7c4a13db1",
     "showTitle": false,
     "tableResultSettingsMap": {},
     "title": ""
    }
   },
   "outputs": [],
   "source": [
    "# build jdbc url\n",
    "jdbc_url = f\"jdbc:sqlserver://{jdbc_hostname}:{jdbc_port};database={jdbc_database}\"\n",
    "\n",
    "connection_properties = {\n",
    "    \"user\": user_name,\n",
    "    \"password\": password,\n",
    "    \"driver\": \"com.microsoft.sqlserver.jdbc.SQLServerDriver\"\n",
    "}"
   ]
  },
  {
   "cell_type": "code",
   "execution_count": 0,
   "metadata": {
    "application/vnd.databricks.v1+cell": {
     "cellMetadata": {
      "byteLimit": 2048000,
      "rowLimit": 10000
     },
     "inputWidgets": {},
     "nuid": "ddcaca4e-3745-4958-a63c-794443d5a453",
     "showTitle": false,
     "tableResultSettingsMap": {},
     "title": ""
    }
   },
   "outputs": [],
   "source": [
    "query = \"(select * from INFORMATION_SCHEMA.TABLES WHERE TABLE_TYPE = 'BASE TABLE') as temp\"\n",
    "\n",
    "tables_info_df = (\n",
    "    spark.read.jdbc(\n",
    "        url=jdbc_url,\n",
    "        table=query,\n",
    "        properties=connection_properties\n",
    "    )\n",
    ")\n",
    "display(tables_info_df)"
   ]
  },
  {
   "cell_type": "code",
   "execution_count": 0,
   "metadata": {
    "application/vnd.databricks.v1+cell": {
     "cellMetadata": {
      "byteLimit": 2048000,
      "rowLimit": 10000
     },
     "inputWidgets": {},
     "nuid": "335ffd2f-298b-44e8-839c-2b7591183161",
     "showTitle": false,
     "tableResultSettingsMap": {},
     "title": ""
    }
   },
   "outputs": [],
   "source": [
    "def sql_to_adls(tables_info):\n",
    "    for row in tables_info.collect():\n",
    "        schema = row[\"TABLE_SCHEMA\"]\n",
    "        table_name = row[\"TABLE_NAME\"]\n",
    "        full_table_name = f\"{schema}.{table_name}\"\n",
    "\n",
    "        print(f\"Processing table: {full_table_name}\")\n",
    "\n",
    "        try:\n",
    "            df = (\n",
    "                spark.read.jdbc(\n",
    "                    url=jdbc_url,\n",
    "                    table=f\"{schema}.{table_name}\",\n",
    "                    properties=connection_properties\n",
    "                )\n",
    "            )\n",
    "\n",
    "            # write into adls\n",
    "            (\n",
    "                df.write.format(\"parquet\")\n",
    "                .mode(\"overwrite\")\n",
    "                .save(f\"{base_path}/{((full_table_name.replace('.', '_')).lower())}_{current_date_str}\")\n",
    "            )\n",
    "        \n",
    "        except Exception as e:\n",
    "            raise e"
   ]
  },
  {
   "cell_type": "code",
   "execution_count": 0,
   "metadata": {
    "application/vnd.databricks.v1+cell": {
     "cellMetadata": {
      "byteLimit": 2048000,
      "rowLimit": 10000
     },
     "inputWidgets": {},
     "nuid": "4d47f10c-9402-4d04-bf70-13032885c2d5",
     "showTitle": false,
     "tableResultSettingsMap": {},
     "title": ""
    }
   },
   "outputs": [],
   "source": [
    "# function call\n",
    "sql_to_adls(tables_info_df)"
   ]
  },
  {
   "cell_type": "code",
   "execution_count": 0,
   "metadata": {
    "application/vnd.databricks.v1+cell": {
     "cellMetadata": {
      "byteLimit": 2048000,
      "rowLimit": 10000
     },
     "inputWidgets": {},
     "nuid": "1fc7da5a-bf62-42c6-9960-5f764952b725",
     "showTitle": false,
     "tableResultSettingsMap": {},
     "title": ""
    }
   },
   "outputs": [],
   "source": [
    "dbutils.fs.mounts()"
   ]
  }
 ],
 "metadata": {
  "application/vnd.databricks.v1+notebook": {
   "computePreferences": null,
   "dashboards": [],
   "environmentMetadata": {
    "base_environment": "",
    "environment_version": "2"
   },
   "inputWidgetPreferences": null,
   "language": "python",
   "notebookMetadata": {
    "pythonIndentUnit": 4
   },
   "notebookName": "data migration from azure sql to adls",
   "widgets": {}
  },
  "language_info": {
   "name": "python"
  }
 },
 "nbformat": 4,
 "nbformat_minor": 0
}
