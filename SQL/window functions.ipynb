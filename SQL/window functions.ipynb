{
 "cells": [
  {
   "cell_type": "code",
   "execution_count": 0,
   "metadata": {
    "application/vnd.databricks.v1+cell": {
     "cellMetadata": {
      "byteLimit": 2048000,
      "rowLimit": 10000
     },
     "inputWidgets": {},
     "nuid": "60416df6-e4e1-4d50-bb5d-08b15533b30a",
     "showTitle": false,
     "tableResultSettingsMap": {
      "0": {
       "dataGridStateBlob": "{\"version\":1,\"tableState\":{\"columnPinning\":{\"left\":[\"#row_number#\"],\"right\":[]},\"columnSizing\":{},\"columnVisibility\":{}},\"settings\":{\"columns\":{}},\"syncTimestamp\":1753070894059}",
       "filterBlob": null,
       "queryPlanFiltersBlob": null,
       "tableResultIndex": 0
      }
     },
     "title": ""
    }
   },
   "outputs": [],
   "source": [
    "select Country, City, University, Program, `Level`, Duration_Years, Tuition_USD, Living_Cost_Index, Rent_USD, Visa_Fee_USD, Insurance_USD, Exchange_Rate\n",
    "from education_cost;"
   ]
  },
  {
   "cell_type": "code",
   "execution_count": 0,
   "metadata": {
    "application/vnd.databricks.v1+cell": {
     "cellMetadata": {
      "byteLimit": 2048000,
      "rowLimit": 10000
     },
     "inputWidgets": {},
     "nuid": "8b2b582f-d8ed-4721-ab32-1b77caa88f36",
     "showTitle": false,
     "tableResultSettingsMap": {
      "0": {
       "dataGridStateBlob": "{\"version\":1,\"tableState\":{\"columnPinning\":{\"left\":[\"#row_number#\"],\"right\":[]},\"columnSizing\":{},\"columnVisibility\":{}},\"settings\":{\"columns\":{}},\"syncTimestamp\":1753071417013}",
       "filterBlob": null,
       "queryPlanFiltersBlob": null,
       "tableResultIndex": 0
      }
     },
     "title": ""
    }
   },
   "outputs": [],
   "source": [
    "select \n",
    "University,\n",
    "Program, \n",
    "`Level`, \n",
    "Tuition_USD\n",
    "-- dense_rank() over(partition by Program, `Level` order by Tuition_USD) as rk\n",
    "from education_cost\n",
    "qualify dense_rank() over(partition by Program, `Level` order by Tuition_USD) = 1\n",
    "order by Program, `Level`;"
   ]
  },
  {
   "cell_type": "code",
   "execution_count": 0,
   "metadata": {
    "application/vnd.databricks.v1+cell": {
     "cellMetadata": {
      "byteLimit": 2048000,
      "rowLimit": 10000
     },
     "inputWidgets": {},
     "nuid": "9557bfe1-90e2-4787-9b9d-6e43cc99522c",
     "showTitle": false,
     "tableResultSettingsMap": {},
     "title": ""
    }
   },
   "outputs": [],
   "source": [
    "use j2d;"
   ]
  },
  {
   "cell_type": "code",
   "execution_count": 0,
   "metadata": {
    "application/vnd.databricks.v1+cell": {
     "cellMetadata": {
      "byteLimit": 2048000,
      "rowLimit": 10000
     },
     "inputWidgets": {},
     "nuid": "b296f72e-8a22-462b-b078-b43c3d2df258",
     "showTitle": false,
     "tableResultSettingsMap": {},
     "title": ""
    }
   },
   "outputs": [],
   "source": [
    "CREATE OR REPLACE TABLE sales_data (\n",
    "  SalesID INT,\n",
    "  SalesPerson STRING,\n",
    "  `Region` STRING,\n",
    "  Product STRING,\n",
    "  SalesAmount DOUBLE,\n",
    "  SalesDate DATE\n",
    ");"
   ]
  },
  {
   "cell_type": "code",
   "execution_count": 0,
   "metadata": {
    "application/vnd.databricks.v1+cell": {
     "cellMetadata": {
      "byteLimit": 2048000,
      "rowLimit": 10000
     },
     "inputWidgets": {},
     "nuid": "606734b7-b261-45f7-b941-9def2fbcf61a",
     "showTitle": false,
     "tableResultSettingsMap": {},
     "title": ""
    }
   },
   "outputs": [],
   "source": [
    "INSERT INTO sales_data VALUES\n",
    "(1, 'Alice', 'North', 'Laptop', 1200, DATE('2024-01-01')),\n",
    "(2, 'Bob', 'North', 'Laptop', 1250, DATE('2024-01-03')),\n",
    "(3, 'Alice', 'North', 'Tablet', 600, DATE('2024-01-05')),\n",
    "(4, 'Charlie', 'South', 'Phone', 800, DATE('2024-01-02')),\n",
    "(5, 'Bob', 'North', 'Tablet', 650, DATE('2024-01-07')),\n",
    "(6, 'Alice', 'North', 'Laptop', 1300, DATE('2024-01-09')),\n",
    "(7, 'David', 'East', 'Phone', 700, DATE('2024-01-04')),\n",
    "(8, 'Eva', 'West', 'Laptop', 1350, DATE('2024-01-10')),\n",
    "(9, 'Charlie', 'South', 'Laptop', 1100, DATE('2024-01-08')),\n",
    "(10, 'David', 'East', 'Tablet', 550, DATE('2024-01-06')),\n",
    "(11, 'Eva', 'West', 'Phone', 750, DATE('2024-01-11')),\n",
    "(12, 'Alice', 'North', 'Laptop', 1400, DATE('2024-01-12')),\n",
    "(13, 'Bob', 'North', 'Phone', 820, DATE('2024-01-13')),\n",
    "(14, 'Charlie', 'South', 'Tablet', 600, DATE('2024-01-14')),\n",
    "(15, 'David', 'East', 'Laptop', 1250, DATE('2024-01-15')),\n",
    "(16, 'Eva', 'West', 'Tablet', 640, DATE('2024-01-16')),\n",
    "(17, 'Alice', 'North', 'Phone', 880, DATE('2024-01-17')),\n",
    "(18, 'Bob', 'North', 'Laptop', 1280, DATE('2024-01-18')),\n",
    "(19, 'Charlie', 'South', 'Laptop', 1170, DATE('2024-01-19')),\n",
    "(20, 'David', 'East', 'Tablet', 580, DATE('2024-01-20')),\n",
    "(21, 'Eva', 'West', 'Laptop', 1370, DATE('2024-01-21')),\n",
    "(22, 'Alice', 'North', 'Laptop', 1450, DATE('2024-01-22')),\n",
    "(23, 'Bob', 'North', 'Tablet', 660, DATE('2024-01-23')),\n",
    "(24, 'Charlie', 'South', 'Phone', 850, DATE('2024-01-24')),\n",
    "(25, 'David', 'East', 'Phone', 740, DATE('2024-01-25')),\n",
    "(26, 'Eva', 'West', 'Laptop', 1390, DATE('2024-01-26')),\n",
    "(27, 'Alice', 'North', 'Tablet', 620, DATE('2024-01-27')),\n",
    "(28, 'Bob', 'North', 'Phone', 800, DATE('2024-01-28')),\n",
    "(29, 'Charlie', 'South', 'Laptop', 1190, DATE('2024-01-29')),\n",
    "(30, 'David', 'East', 'Laptop', 1260, DATE('2024-01-30'));"
   ]
  },
  {
   "cell_type": "code",
   "execution_count": 0,
   "metadata": {
    "application/vnd.databricks.v1+cell": {
     "cellMetadata": {
      "byteLimit": 2048000,
      "rowLimit": 10000
     },
     "inputWidgets": {},
     "nuid": "43273a8c-167b-461f-879d-c432e6969eea",
     "showTitle": false,
     "tableResultSettingsMap": {
      "0": {
       "dataGridStateBlob": "{\"version\":1,\"tableState\":{\"columnPinning\":{\"left\":[\"#row_number#\"],\"right\":[]},\"columnSizing\":{},\"columnVisibility\":{}},\"settings\":{\"columns\":{}},\"syncTimestamp\":1753189458442}",
       "filterBlob": null,
       "queryPlanFiltersBlob": null,
       "tableResultIndex": 0
      }
     },
     "title": ""
    }
   },
   "outputs": [],
   "source": [
    "select * from sales_data;"
   ]
  },
  {
   "cell_type": "code",
   "execution_count": 0,
   "metadata": {
    "application/vnd.databricks.v1+cell": {
     "cellMetadata": {
      "byteLimit": 2048000,
      "rowLimit": 10000
     },
     "inputWidgets": {},
     "nuid": "66c19b93-99b8-4dc9-a87f-95b02364a6c8",
     "showTitle": false,
     "tableResultSettingsMap": {
      "0": {
       "dataGridStateBlob": "{\"version\":1,\"tableState\":{\"columnPinning\":{\"left\":[\"#row_number#\"],\"right\":[]},\"columnSizing\":{},\"columnVisibility\":{}},\"settings\":{\"columns\":{}},\"syncTimestamp\":1753190044947}",
       "filterBlob": null,
       "queryPlanFiltersBlob": null,
       "tableResultIndex": 0
      }
     },
     "title": ""
    }
   },
   "outputs": [],
   "source": [
    "select *, row_number() over(partition by SalesPerson order by SalesDate asc) as rn\n",
    "from sales_data;"
   ]
  },
  {
   "cell_type": "code",
   "execution_count": 0,
   "metadata": {
    "application/vnd.databricks.v1+cell": {
     "cellMetadata": {
      "byteLimit": 2048000,
      "rowLimit": 10000
     },
     "inputWidgets": {},
     "nuid": "2394b309-bd8c-4625-97fd-7181f6c208ae",
     "showTitle": false,
     "tableResultSettingsMap": {},
     "title": ""
    }
   },
   "outputs": [],
   "source": [
    "select *, row_number() over(partition by SalesPerson order by SalesDate asc) as rn\n",
    "from sales_data\n",
    "where rn = 1;"
   ]
  },
  {
   "cell_type": "code",
   "execution_count": 0,
   "metadata": {
    "application/vnd.databricks.v1+cell": {
     "cellMetadata": {
      "byteLimit": 2048000,
      "rowLimit": 10000
     },
     "inputWidgets": {},
     "nuid": "365756e2-d8fe-48e9-ba1a-5cfce00a6290",
     "showTitle": false,
     "tableResultSettingsMap": {
      "0": {
       "dataGridStateBlob": "{\"version\":1,\"tableState\":{\"columnPinning\":{\"left\":[\"#row_number#\"],\"right\":[]},\"columnSizing\":{},\"columnVisibility\":{}},\"settings\":{\"columns\":{}},\"syncTimestamp\":1753189876112}",
       "filterBlob": null,
       "queryPlanFiltersBlob": null,
       "tableResultIndex": 0
      }
     },
     "title": ""
    }
   },
   "outputs": [],
   "source": [
    "select `SalesPerson`, `Region`, `Product`, `SalesID`, `SalesDate` \n",
    "from \n",
    "(\n",
    "select *, row_number() over(partition by SalesPerson order by SalesDate asc) as rn\n",
    "from sales_data\n",
    ") sd\n",
    "where sd.rn = 1;"
   ]
  },
  {
   "cell_type": "code",
   "execution_count": 0,
   "metadata": {
    "application/vnd.databricks.v1+cell": {
     "cellMetadata": {
      "byteLimit": 2048000,
      "rowLimit": 10000
     },
     "inputWidgets": {},
     "nuid": "8f0fdcc2-9c3f-4c14-b16a-f26ee6f577fa",
     "showTitle": false,
     "tableResultSettingsMap": {},
     "title": ""
    }
   },
   "outputs": [],
   "source": [
    "with cte as (\n",
    "select *, row_number() over(partition by SalesPerson order by SalesDate asc) as rn\n",
    "from sales_data\n",
    ")\n",
    "select `SalesPerson`, `Region`, `Product`, `SalesID`, `SalesDate` \n",
    "from cte\n",
    "where cte.rn = 1;"
   ]
  },
  {
   "cell_type": "code",
   "execution_count": 0,
   "metadata": {
    "application/vnd.databricks.v1+cell": {
     "cellMetadata": {
      "byteLimit": 2048000,
      "rowLimit": 10000
     },
     "inputWidgets": {},
     "nuid": "d5bdd7bf-ffe2-4b9e-9a83-49702e66ca81",
     "showTitle": false,
     "tableResultSettingsMap": {
      "0": {
       "dataGridStateBlob": "{\"version\":1,\"tableState\":{\"columnPinning\":{\"left\":[\"#row_number#\"],\"right\":[]},\"columnSizing\":{},\"columnVisibility\":{}},\"settings\":{\"columns\":{}},\"syncTimestamp\":1753190198938}",
       "filterBlob": null,
       "queryPlanFiltersBlob": null,
       "tableResultIndex": 0
      }
     },
     "title": ""
    }
   },
   "outputs": [],
   "source": [
    "with cte as (\n",
    "select *, rank() over(partition by `Region` order by SalesAmount desc) as rk\n",
    "from sales_data\n",
    ")\n",
    "select `SalesPerson`, `Region`, `Product`, `SalesAmount`, `SalesID`, `SalesDate`, `rk`\n",
    "from cte\n",
    "-- where cte.rk = 1;"
   ]
  },
  {
   "cell_type": "code",
   "execution_count": 0,
   "metadata": {
    "application/vnd.databricks.v1+cell": {
     "cellMetadata": {
      "byteLimit": 2048000,
      "rowLimit": 10000
     },
     "inputWidgets": {},
     "nuid": "494e33d7-8872-49bc-a119-4847d5d4069b",
     "showTitle": false,
     "tableResultSettingsMap": {},
     "title": ""
    }
   },
   "outputs": [],
   "source": [
    "with cte as (\n",
    "select *, rank() over(partition by `Region` order by SalesAmount desc) as rk\n",
    "from sales_data\n",
    ")\n",
    "select `SalesPerson`, `Region`, `Product`, `SalesAmount`, `SalesID`, `SalesDate`\n",
    "from cte\n",
    "where cte.rk = 1;"
   ]
  },
  {
   "cell_type": "code",
   "execution_count": 0,
   "metadata": {
    "application/vnd.databricks.v1+cell": {
     "cellMetadata": {
      "byteLimit": 2048000,
      "rowLimit": 10000
     },
     "inputWidgets": {},
     "nuid": "1a183442-64f0-48b5-badd-00bab836a699",
     "showTitle": false,
     "tableResultSettingsMap": {
      "0": {
       "dataGridStateBlob": "{\"version\":1,\"tableState\":{\"columnPinning\":{\"left\":[\"#row_number#\"],\"right\":[]},\"columnSizing\":{},\"columnVisibility\":{}},\"settings\":{\"columns\":{}},\"syncTimestamp\":1753190435532}",
       "filterBlob": null,
       "queryPlanFiltersBlob": null,
       "tableResultIndex": 0
      }
     },
     "title": ""
    }
   },
   "outputs": [],
   "source": [
    "with cte as (\n",
    "select *, dense_rank() over(partition by `Region` order by SalesAmount desc) as rk\n",
    "from sales_data\n",
    ")\n",
    "select `SalesPerson`, `Region`, `Product`, `SalesAmount`, `SalesID`, `SalesDate`, `rk`\n",
    "from cte\n",
    "-- where cte.rk = 1;"
   ]
  },
  {
   "cell_type": "code",
   "execution_count": 0,
   "metadata": {
    "application/vnd.databricks.v1+cell": {
     "cellMetadata": {
      "byteLimit": 2048000,
      "rowLimit": 10000
     },
     "inputWidgets": {},
     "nuid": "fd3c0102-4da0-464d-be9d-bf00e3a3c4c2",
     "showTitle": false,
     "tableResultSettingsMap": {
      "0": {
       "dataGridStateBlob": "{\"version\":1,\"tableState\":{\"columnPinning\":{\"left\":[\"#row_number#\"],\"right\":[]},\"columnSizing\":{},\"columnVisibility\":{}},\"settings\":{\"columns\":{}},\"syncTimestamp\":1753190456743}",
       "filterBlob": null,
       "queryPlanFiltersBlob": null,
       "tableResultIndex": 0
      }
     },
     "title": ""
    }
   },
   "outputs": [],
   "source": [
    "with cte as (\n",
    "select *, dense_rank() over(partition by `Region` order by SalesAmount desc) as rk\n",
    "from sales_data\n",
    ")\n",
    "select `SalesPerson`, `Region`, `Product`, `SalesAmount`, `SalesID`, `SalesDate`\n",
    "from cte\n",
    "where cte.rk = 1;"
   ]
  },
  {
   "cell_type": "code",
   "execution_count": 0,
   "metadata": {
    "application/vnd.databricks.v1+cell": {
     "cellMetadata": {
      "byteLimit": 2048000,
      "rowLimit": 10000
     },
     "inputWidgets": {},
     "nuid": "b485f45e-45ca-4a39-a65d-5a28f3957ba9",
     "showTitle": false,
     "tableResultSettingsMap": {},
     "title": ""
    }
   },
   "outputs": [],
   "source": [
    "select *\n",
    "from sales_data\n",
    "qualify dense_rank() over(partition by `Region` order by SalesAmount desc) = 1;"
   ]
  },
  {
   "cell_type": "code",
   "execution_count": 0,
   "metadata": {
    "application/vnd.databricks.v1+cell": {
     "cellMetadata": {},
     "inputWidgets": {},
     "nuid": "49b90923-02dc-43b4-87b1-4980c5c88f1b",
     "showTitle": false,
     "tableResultSettingsMap": {},
     "title": ""
    }
   },
   "outputs": [],
   "source": [
    "-- ntile\n",
    "-- lag\n",
    "-- lead\n",
    "-- first_value\n",
    "-- last_value\n",
    "-- percentile\n",
    "-- sum\n",
    "-- avg"
   ]
  },
  {
   "cell_type": "markdown",
   "metadata": {
    "application/vnd.databricks.v1+cell": {
     "cellMetadata": {},
     "inputWidgets": {},
     "nuid": "faaf5b50-cc00-4904-ac70-69dfdeec230e",
     "showTitle": false,
     "tableResultSettingsMap": {},
     "title": ""
    }
   },
   "source": [
    "Practical Example usage of window functions"
   ]
  },
  {
   "cell_type": "code",
   "execution_count": 0,
   "metadata": {
    "application/vnd.databricks.v1+cell": {
     "cellMetadata": {
      "byteLimit": 2048000,
      "rowLimit": 10000
     },
     "inputWidgets": {},
     "nuid": "75206621-c5fc-463b-ae38-6a685133efd0",
     "showTitle": false,
     "tableResultSettingsMap": {},
     "title": ""
    }
   },
   "outputs": [],
   "source": [
    "CREATE OR REPLACE TABLE customer_orders (\n",
    "  customer_id INT,\n",
    "  order_id INT,\n",
    "  product STRING,\n",
    "  quantity INT,\n",
    "  last_updated_date DATE\n",
    ");\n",
    "\n",
    "INSERT INTO customer_orders VALUES\n",
    "(1, 101, 'Laptop', 2, DATE('2024-01-15')),\n",
    "(1, 101, 'Laptop', 2, DATE('2024-03-01')),  -- duplicate with newer date\n",
    "(2, 102, 'Mobile', 1, DATE('2024-02-10')),\n",
    "(3, 103, 'Tablet', 1, DATE('2024-02-20')),\n",
    "(3, 103, 'Tablet', 2, DATE('2024-03-05')),  -- updated quantity\n",
    "(4, 104, 'Monitor', 1, DATE('2024-03-10'));\n"
   ]
  },
  {
   "cell_type": "code",
   "execution_count": 0,
   "metadata": {
    "application/vnd.databricks.v1+cell": {
     "cellMetadata": {
      "byteLimit": 2048000,
      "rowLimit": 10000
     },
     "inputWidgets": {},
     "nuid": "cb7495fb-d0ec-4fe2-a574-f1bdcbc2359b",
     "showTitle": false,
     "tableResultSettingsMap": {
      "0": {
       "dataGridStateBlob": "{\"version\":1,\"tableState\":{\"columnPinning\":{\"left\":[\"#row_number#\"],\"right\":[]},\"columnSizing\":{},\"columnVisibility\":{}},\"settings\":{\"columns\":{}},\"syncTimestamp\":1753191030015}",
       "filterBlob": null,
       "queryPlanFiltersBlob": null,
       "tableResultIndex": 0
      }
     },
     "title": ""
    }
   },
   "outputs": [],
   "source": [
    "select * from customer_orders;"
   ]
  },
  {
   "cell_type": "code",
   "execution_count": 0,
   "metadata": {
    "application/vnd.databricks.v1+cell": {
     "cellMetadata": {
      "byteLimit": 2048000,
      "rowLimit": 10000
     },
     "inputWidgets": {},
     "nuid": "7e684cd8-ae45-465d-a06e-388f5d261949",
     "showTitle": false,
     "tableResultSettingsMap": {
      "0": {
       "dataGridStateBlob": "{\"version\":1,\"tableState\":{\"columnPinning\":{\"left\":[\"#row_number#\"],\"right\":[]},\"columnSizing\":{},\"columnVisibility\":{}},\"settings\":{\"columns\":{}},\"syncTimestamp\":1753191387107}",
       "filterBlob": null,
       "queryPlanFiltersBlob": null,
       "tableResultIndex": 0
      }
     },
     "title": ""
    }
   },
   "outputs": [],
   "source": [
    "select *\n",
    "from customer_orders\n",
    "qualify row_number() over(partition by customer_id, order_id order by last_updated_date desc) = 1;"
   ]
  },
  {
   "cell_type": "code",
   "execution_count": 0,
   "metadata": {
    "application/vnd.databricks.v1+cell": {
     "cellMetadata": {
      "byteLimit": 2048000,
      "rowLimit": 10000
     },
     "inputWidgets": {},
     "nuid": "72a76394-5807-4d9f-87a6-9e320a7b8c52",
     "showTitle": false,
     "tableResultSettingsMap": {},
     "title": ""
    }
   },
   "outputs": [],
   "source": [
    "create or replace temp view latest_sales as \n",
    "select *\n",
    "from customer_orders\n",
    "qualify row_number() over(partition by customer_id, order_id order by last_updated_date desc) = 1;"
   ]
  },
  {
   "cell_type": "code",
   "execution_count": 0,
   "metadata": {
    "application/vnd.databricks.v1+cell": {
     "cellMetadata": {
      "byteLimit": 2048000,
      "rowLimit": 10000
     },
     "inputWidgets": {},
     "nuid": "9d705477-ea5e-4b12-93bf-ae5fb8b1a024",
     "showTitle": false,
     "tableResultSettingsMap": {
      "0": {
       "dataGridStateBlob": "{\"version\":1,\"tableState\":{\"columnPinning\":{\"left\":[\"#row_number#\"],\"right\":[]},\"columnSizing\":{},\"columnVisibility\":{}},\"settings\":{\"columns\":{}},\"syncTimestamp\":1753192384979}",
       "filterBlob": null,
       "queryPlanFiltersBlob": null,
       "tableResultIndex": 0
      }
     },
     "title": ""
    }
   },
   "outputs": [],
   "source": [
    "select * from latest_sales;"
   ]
  },
  {
   "cell_type": "markdown",
   "metadata": {
    "application/vnd.databricks.v1+cell": {
     "cellMetadata": {},
     "inputWidgets": {},
     "nuid": "38667f3a-b2fd-4883-8aac-12d6b9f293a3",
     "showTitle": false,
     "tableResultSettingsMap": {},
     "title": ""
    }
   },
   "source": [
    "Use Merge statement to update data in the main table"
   ]
  },
  {
   "cell_type": "code",
   "execution_count": 0,
   "metadata": {
    "application/vnd.databricks.v1+cell": {
     "cellMetadata": {
      "byteLimit": 2048000,
      "rowLimit": 10000
     },
     "inputWidgets": {},
     "nuid": "aac4fcd5-cd1e-4aef-b685-e34a44b885e4",
     "showTitle": false,
     "tableResultSettingsMap": {},
     "title": ""
    }
   },
   "outputs": [],
   "source": [
    "merge into customer_orders as target\n",
    "using latest_sales as source\n",
    "on target.customer_id = source.customer_id and target.order_id = source.order_id \n",
    "when matched then update set \n",
    "target.customer_id = source.customer_id, \n",
    "target.order_id = source.order_id,\n",
    "target.product = source.product,\n",
    "target.quantity = source.quantity,\n",
    "target.last_updated_date = source.last_updated_date;"
   ]
  },
  {
   "cell_type": "code",
   "execution_count": 0,
   "metadata": {
    "application/vnd.databricks.v1+cell": {
     "cellMetadata": {
      "byteLimit": 2048000,
      "rowLimit": 10000
     },
     "inputWidgets": {},
     "nuid": "3e60d2ec-a692-4661-b56d-d6a5b35da643",
     "showTitle": false,
     "tableResultSettingsMap": {
      "0": {
       "dataGridStateBlob": "{\"version\":1,\"tableState\":{\"columnPinning\":{\"left\":[\"#row_number#\"],\"right\":[]},\"columnSizing\":{},\"columnVisibility\":{}},\"settings\":{\"columns\":{}},\"syncTimestamp\":1753192070632}",
       "filterBlob": null,
       "queryPlanFiltersBlob": null,
       "tableResultIndex": 0
      }
     },
     "title": ""
    }
   },
   "outputs": [],
   "source": [
    "select distinct * from customer_orders;"
   ]
  }
 ],
 "metadata": {
  "application/vnd.databricks.v1+notebook": {
   "computePreferences": null,
   "dashboards": [],
   "environmentMetadata": {
    "base_environment": "",
    "environment_version": "2"
   },
   "inputWidgetPreferences": null,
   "language": "sql",
   "notebookMetadata": {
    "pythonIndentUnit": 4
   },
   "notebookName": "window functions",
   "widgets": {}
  },
  "language_info": {
   "name": "sql"
  }
 },
 "nbformat": 4,
 "nbformat_minor": 0
}
