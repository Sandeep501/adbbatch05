{
 "cells": [
  {
   "cell_type": "markdown",
   "metadata": {
    "application/vnd.databricks.v1+cell": {
     "cellMetadata": {
      "byteLimit": 2048000,
      "rowLimit": 10000
     },
     "inputWidgets": {},
     "nuid": "8d6362c0-78eb-4628-b5b0-1ac8d737e393",
     "showTitle": false,
     "tableResultSettingsMap": {},
     "title": ""
    }
   },
   "source": [
    "Widgets"
   ]
  },
  {
   "cell_type": "code",
   "execution_count": 0,
   "metadata": {
    "application/vnd.databricks.v1+cell": {
     "cellMetadata": {
      "byteLimit": 2048000,
      "rowLimit": 10000
     },
     "inputWidgets": {},
     "nuid": "d948092f-c941-4eeb-9236-90ff928174b7",
     "showTitle": false,
     "tableResultSettingsMap": {},
     "title": ""
    }
   },
   "outputs": [],
   "source": [
    "# 1. Text Widget\n",
    "dbutils.widgets.removeAll()\n",
    "dbutils.widgets.text(\"Name\", \"Dileep\")"
   ]
  },
  {
   "cell_type": "code",
   "execution_count": 0,
   "metadata": {
    "application/vnd.databricks.v1+cell": {
     "cellMetadata": {
      "byteLimit": 2048000,
      "rowLimit": 10000
     },
     "inputWidgets": {},
     "nuid": "22e427f1-caba-4e78-8dbe-bb510ba32f0b",
     "showTitle": false,
     "tableResultSettingsMap": {},
     "title": ""
    }
   },
   "outputs": [],
   "source": [
    "name = dbutils.widgets.get(\"Name\")\n",
    "print(name)"
   ]
  },
  {
   "cell_type": "code",
   "execution_count": 0,
   "metadata": {
    "application/vnd.databricks.v1+cell": {
     "cellMetadata": {
      "byteLimit": 2048000,
      "rowLimit": 10000
     },
     "inputWidgets": {},
     "nuid": "c0284561-ce83-4aa8-8886-1a905397ce02",
     "showTitle": false,
     "tableResultSettingsMap": {},
     "title": ""
    }
   },
   "outputs": [],
   "source": [
    "# 2. DropDown Widget\n",
    "\n",
    "dbutils.widgets.dropdown(\"Languages\", \"Telugu\", [\"Telugu\", \"English\", \"Hindi\"])\n",
    "subject = dbutils.widgets.get(\"Languages\")\n",
    "print(subject)"
   ]
  },
  {
   "cell_type": "code",
   "execution_count": 0,
   "metadata": {
    "application/vnd.databricks.v1+cell": {
     "cellMetadata": {
      "byteLimit": 2048000,
      "rowLimit": 10000
     },
     "inputWidgets": {},
     "nuid": "a2863678-4e52-47fc-8aff-33848bea1a49",
     "showTitle": false,
     "tableResultSettingsMap": {},
     "title": ""
    }
   },
   "outputs": [],
   "source": [
    "# 3. comboBox Widget\n",
    "dbutils.widgets.combobox(\"Subjects\", \"Maths\", [\"Maths\", \"Science\", \"Social\"])\n",
    "subject = dbutils.widgets.get(\"Subjects\")\n",
    "print(subject)"
   ]
  },
  {
   "cell_type": "code",
   "execution_count": 0,
   "metadata": {
    "application/vnd.databricks.v1+cell": {
     "cellMetadata": {
      "byteLimit": 2048000,
      "rowLimit": 10000
     },
     "inputWidgets": {},
     "nuid": "a713a24e-5a5a-4748-bbdf-bb5ac2bea03c",
     "showTitle": false,
     "tableResultSettingsMap": {},
     "title": ""
    }
   },
   "outputs": [],
   "source": [
    "# 4. Multi Select Widget\n",
    "\n",
    "dbutils.widgets.multiselect(\"Sports\", \"Cricket\", [\"Cricket\", \"VollyBall\", \"Batminton\"])\n",
    "sports = dbutils.widgets.get(\"Sports\")\n",
    "print(sports)"
   ]
  },
  {
   "cell_type": "code",
   "execution_count": 0,
   "metadata": {
    "application/vnd.databricks.v1+cell": {
     "cellMetadata": {
      "byteLimit": 2048000,
      "rowLimit": 10000
     },
     "inputWidgets": {},
     "nuid": "78ab7a93-4066-4ed3-bce0-10bc457c50f7",
     "showTitle": false,
     "tableResultSettingsMap": {},
     "title": ""
    }
   },
   "outputs": [],
   "source": [
    "type(sports)"
   ]
  },
  {
   "cell_type": "code",
   "execution_count": 0,
   "metadata": {
    "application/vnd.databricks.v1+cell": {
     "cellMetadata": {
      "byteLimit": 2048000,
      "rowLimit": 10000
     },
     "inputWidgets": {},
     "nuid": "8d6ceabc-5c90-4fe2-bb52-3aa62f13a93a",
     "showTitle": false,
     "tableResultSettingsMap": {},
     "title": ""
    }
   },
   "outputs": [],
   "source": [
    "values = sports.split(\",\")\n",
    "values"
   ]
  },
  {
   "cell_type": "code",
   "execution_count": 0,
   "metadata": {
    "application/vnd.databricks.v1+cell": {
     "cellMetadata": {
      "byteLimit": 2048000,
      "rowLimit": 10000
     },
     "inputWidgets": {},
     "nuid": "d58b2ac9-aa86-4072-b8b3-9caa672b0e65",
     "showTitle": false,
     "tableResultSettingsMap": {},
     "title": ""
    }
   },
   "outputs": [],
   "source": [
    "# 2. DropDown Widget\n",
    "\n",
    "dbutils.widgets.dropdown(\"ChooseNum\", \"1\", [\"1\", \"2\", \"3\"])\n",
    "num = int(dbutils.widgets.get(\"ChooseNum\"))\n",
    "print(num)\n",
    "print(type(num))"
   ]
  }
 ],
 "metadata": {
  "application/vnd.databricks.v1+notebook": {
   "computePreferences": null,
   "dashboards": [],
   "environmentMetadata": {
    "base_environment": "",
    "environment_version": "2"
   },
   "inputWidgetPreferences": null,
   "language": "python",
   "notebookMetadata": {
    "pythonIndentUnit": 4
   },
   "notebookName": "Notebook Widgets",
   "widgets": {
    "ChooseNum": {
     "currentValue": "3",
     "nuid": "b594f84b-5b5c-421e-9db8-42a2791fed09",
     "typedWidgetInfo": {
      "autoCreated": false,
      "defaultValue": "1",
      "label": null,
      "name": "ChooseNum",
      "options": {
       "widgetDisplayType": "Dropdown",
       "choices": [
        "1",
        "2",
        "3"
       ],
       "fixedDomain": true,
       "multiselect": false
      },
      "parameterDataType": "String"
     },
     "widgetInfo": {
      "widgetType": "dropdown",
      "defaultValue": "1",
      "label": null,
      "name": "ChooseNum",
      "options": {
       "widgetType": "dropdown",
       "autoCreated": null,
       "choices": [
        "1",
        "2",
        "3"
       ]
      }
     }
    },
    "Languages": {
     "currentValue": "Telugu",
     "nuid": "ac8abaae-c01a-4cff-860e-27c1a70a8520",
     "typedWidgetInfo": {
      "autoCreated": false,
      "defaultValue": "Telugu",
      "label": null,
      "name": "Languages",
      "options": {
       "widgetDisplayType": "Dropdown",
       "choices": [
        "Telugu",
        "English",
        "Hindi"
       ],
       "fixedDomain": true,
       "multiselect": false
      },
      "parameterDataType": "String"
     },
     "widgetInfo": {
      "widgetType": "dropdown",
      "defaultValue": "Telugu",
      "label": null,
      "name": "Languages",
      "options": {
       "widgetType": "dropdown",
       "autoCreated": false,
       "choices": [
        "Telugu",
        "English",
        "Hindi"
       ]
      }
     }
    },
    "Name": {
     "currentValue": "Kiran",
     "nuid": "f0f32dce-e8bf-4cd9-b35e-2cd484032819",
     "typedWidgetInfo": {
      "autoCreated": false,
      "defaultValue": "Dileep",
      "label": null,
      "name": "Name",
      "options": {
       "widgetDisplayType": "Text",
       "validationRegex": null
      },
      "parameterDataType": "String"
     },
     "widgetInfo": {
      "widgetType": "text",
      "defaultValue": "Dileep",
      "label": null,
      "name": "Name",
      "options": {
       "widgetType": "text",
       "autoCreated": null,
       "validationRegex": null
      }
     }
    },
    "Sports": {
     "currentValue": "Cricket,VollyBall,Batminton",
     "nuid": "4230dc10-010e-4ebb-8dda-3eef507d5d30",
     "typedWidgetInfo": {
      "autoCreated": false,
      "defaultValue": "Cricket",
      "label": null,
      "name": "Sports",
      "options": {
       "widgetDisplayType": "Dropdown",
       "choices": [
        "Cricket",
        "VollyBall",
        "Batminton"
       ],
       "fixedDomain": true,
       "multiselect": true
      },
      "parameterDataType": "String"
     },
     "widgetInfo": {
      "widgetType": "multiselect",
      "defaultValue": "Cricket",
      "label": null,
      "name": "Sports",
      "options": {
       "widgetType": "dropdown",
       "autoCreated": null,
       "choices": [
        "Cricket",
        "VollyBall",
        "Batminton"
       ]
      }
     }
    },
    "Subjects": {
     "currentValue": "Maths",
     "nuid": "740468df-9926-47e0-8300-beb71ed81aa3",
     "typedWidgetInfo": {
      "autoCreated": false,
      "defaultValue": "Maths",
      "label": null,
      "name": "Subjects",
      "options": {
       "widgetDisplayType": "Dropdown",
       "choices": [
        "Maths",
        "Science",
        "Social"
       ],
       "fixedDomain": false,
       "multiselect": false
      },
      "parameterDataType": "String"
     },
     "widgetInfo": {
      "widgetType": "combobox",
      "defaultValue": "Maths",
      "label": null,
      "name": "Subjects",
      "options": {
       "widgetType": "dropdown",
       "autoCreated": null,
       "choices": [
        "Maths",
        "Science",
        "Social"
       ]
      }
     }
    }
   }
  },
  "language_info": {
   "name": "python"
  }
 },
 "nbformat": 4,
 "nbformat_minor": 0
}
